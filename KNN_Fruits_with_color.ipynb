{
  "nbformat": 4,
  "nbformat_minor": 0,
  "metadata": {
    "colab": {
      "name": "KNN-Fruits with color.ipynb",
      "provenance": [],
      "collapsed_sections": [],
      "authorship_tag": "ABX9TyMWxNUt+J0IZVFcAXY2Jtzr",
      "include_colab_link": true
    },
    "kernelspec": {
      "name": "python3",
      "display_name": "Python 3"
    }
  },
  "cells": [
    {
      "cell_type": "markdown",
      "metadata": {
        "id": "view-in-github",
        "colab_type": "text"
      },
      "source": [
        "<a href=\"https://colab.research.google.com/github/astha-29/ML/blob/master/KNN_Fruits_with_color.ipynb\" target=\"_parent\"><img src=\"https://colab.research.google.com/assets/colab-badge.svg\" alt=\"Open In Colab\"/></a>"
      ]
    },
    {
      "cell_type": "code",
      "metadata": {
        "id": "7pkUQCiqwgga",
        "colab_type": "code",
        "colab": {}
      },
      "source": [
        "import pandas as pd\n"
      ],
      "execution_count": 1,
      "outputs": []
    },
    {
      "cell_type": "code",
      "metadata": {
        "id": "t4xDnruGxR77",
        "colab_type": "code",
        "colab": {
          "base_uri": "https://localhost:8080/",
          "height": 202
        },
        "outputId": "d7471686-8493-4316-b645-3659d5744a19"
      },
      "source": [
        "df =pd.read_csv(\"https://storage.googleapis.com/kagglesdsdata/datasets%2F9590%2F13660%2Ffruit_data_with_colors.txt?GoogleAccessId=gcp-kaggle-com@kaggle-161607.iam.gserviceaccount.com&Expires=1599023339&Signature=Yy%2FENk9mDEX5lsLE8hmeQca5A6of8bVKY73Jdq%2BaXDoWBCY4vl2hQcfW%2F21pocE7OdgY2WJgh5j97Ly2Ea6hASQabKcuMyfDBBnCjuPiA2VWPfH4ulBP2wkdXrEXJTWn5jjak8ySvcRK8y56yvdsVLIv28nMFq0XPtaUvW1cvMxGu3Br82Fi9r7DwptZojc2NKDjJ0ZBKjBXz1El2gbXcpHZtUrYOf2hkP8Ls1RnVJFLFdJwEuCmtuoV5NAf6P8xQ8wHEWLoyOoAz4brS%2BGfRi9ENg58FnXKM5Nj3Wi8hf%2Fbh5g2Qzj5C5V%2FDnv%2BTlS2Qd7TRCtD5ZkqzrxGOXluiQ%3D%3D\",sep='\\t')\n",
        "df.head()"
      ],
      "execution_count": 9,
      "outputs": [
        {
          "output_type": "execute_result",
          "data": {
            "text/html": [
              "<div>\n",
              "<style scoped>\n",
              "    .dataframe tbody tr th:only-of-type {\n",
              "        vertical-align: middle;\n",
              "    }\n",
              "\n",
              "    .dataframe tbody tr th {\n",
              "        vertical-align: top;\n",
              "    }\n",
              "\n",
              "    .dataframe thead th {\n",
              "        text-align: right;\n",
              "    }\n",
              "</style>\n",
              "<table border=\"1\" class=\"dataframe\">\n",
              "  <thead>\n",
              "    <tr style=\"text-align: right;\">\n",
              "      <th></th>\n",
              "      <th>fruit_label</th>\n",
              "      <th>fruit_name</th>\n",
              "      <th>fruit_subtype</th>\n",
              "      <th>mass</th>\n",
              "      <th>width</th>\n",
              "      <th>height</th>\n",
              "      <th>color_score</th>\n",
              "    </tr>\n",
              "  </thead>\n",
              "  <tbody>\n",
              "    <tr>\n",
              "      <th>0</th>\n",
              "      <td>1</td>\n",
              "      <td>apple</td>\n",
              "      <td>granny_smith</td>\n",
              "      <td>192</td>\n",
              "      <td>8.4</td>\n",
              "      <td>7.3</td>\n",
              "      <td>0.55</td>\n",
              "    </tr>\n",
              "    <tr>\n",
              "      <th>1</th>\n",
              "      <td>1</td>\n",
              "      <td>apple</td>\n",
              "      <td>granny_smith</td>\n",
              "      <td>180</td>\n",
              "      <td>8.0</td>\n",
              "      <td>6.8</td>\n",
              "      <td>0.59</td>\n",
              "    </tr>\n",
              "    <tr>\n",
              "      <th>2</th>\n",
              "      <td>1</td>\n",
              "      <td>apple</td>\n",
              "      <td>granny_smith</td>\n",
              "      <td>176</td>\n",
              "      <td>7.4</td>\n",
              "      <td>7.2</td>\n",
              "      <td>0.60</td>\n",
              "    </tr>\n",
              "    <tr>\n",
              "      <th>3</th>\n",
              "      <td>2</td>\n",
              "      <td>mandarin</td>\n",
              "      <td>mandarin</td>\n",
              "      <td>86</td>\n",
              "      <td>6.2</td>\n",
              "      <td>4.7</td>\n",
              "      <td>0.80</td>\n",
              "    </tr>\n",
              "    <tr>\n",
              "      <th>4</th>\n",
              "      <td>2</td>\n",
              "      <td>mandarin</td>\n",
              "      <td>mandarin</td>\n",
              "      <td>84</td>\n",
              "      <td>6.0</td>\n",
              "      <td>4.6</td>\n",
              "      <td>0.79</td>\n",
              "    </tr>\n",
              "  </tbody>\n",
              "</table>\n",
              "</div>"
            ],
            "text/plain": [
              "   fruit_label fruit_name fruit_subtype  mass  width  height  color_score\n",
              "0            1      apple  granny_smith   192    8.4     7.3         0.55\n",
              "1            1      apple  granny_smith   180    8.0     6.8         0.59\n",
              "2            1      apple  granny_smith   176    7.4     7.2         0.60\n",
              "3            2   mandarin      mandarin    86    6.2     4.7         0.80\n",
              "4            2   mandarin      mandarin    84    6.0     4.6         0.79"
            ]
          },
          "metadata": {
            "tags": []
          },
          "execution_count": 9
        }
      ]
    },
    {
      "cell_type": "code",
      "metadata": {
        "id": "9NyRHmxlxz36",
        "colab_type": "code",
        "colab": {}
      },
      "source": [
        "#in csv comma(,) is the separator and in txt (/t) is the separator \n"
      ],
      "execution_count": 5,
      "outputs": []
    },
    {
      "cell_type": "code",
      "metadata": {
        "id": "1rJFjnHazzrx",
        "colab_type": "code",
        "colab": {
          "base_uri": "https://localhost:8080/",
          "height": 260
        },
        "outputId": "2ddc2917-37be-4f87-ef95-97cccbb1580c"
      },
      "source": [
        "df.info()"
      ],
      "execution_count": 10,
      "outputs": [
        {
          "output_type": "stream",
          "text": [
            "<class 'pandas.core.frame.DataFrame'>\n",
            "RangeIndex: 59 entries, 0 to 58\n",
            "Data columns (total 7 columns):\n",
            " #   Column         Non-Null Count  Dtype  \n",
            "---  ------         --------------  -----  \n",
            " 0   fruit_label    59 non-null     int64  \n",
            " 1   fruit_name     59 non-null     object \n",
            " 2   fruit_subtype  59 non-null     object \n",
            " 3   mass           59 non-null     int64  \n",
            " 4   width          59 non-null     float64\n",
            " 5   height         59 non-null     float64\n",
            " 6   color_score    59 non-null     float64\n",
            "dtypes: float64(3), int64(2), object(2)\n",
            "memory usage: 3.4+ KB\n"
          ],
          "name": "stdout"
        }
      ]
    },
    {
      "cell_type": "code",
      "metadata": {
        "id": "yAQt7iXr0UCO",
        "colab_type": "code",
        "colab": {
          "base_uri": "https://localhost:8080/",
          "height": 69
        },
        "outputId": "944a51af-b886-45e1-f76f-8e083707bdb7"
      },
      "source": [
        "df.columns"
      ],
      "execution_count": 14,
      "outputs": [
        {
          "output_type": "execute_result",
          "data": {
            "text/plain": [
              "Index(['fruit_label', 'fruit_name', 'fruit_subtype', 'mass', 'width', 'height',\n",
              "       'color_score'],\n",
              "      dtype='object')"
            ]
          },
          "metadata": {
            "tags": []
          },
          "execution_count": 14
        }
      ]
    },
    {
      "cell_type": "code",
      "metadata": {
        "id": "lSdBcxev0WF7",
        "colab_type": "code",
        "colab": {
          "base_uri": "https://localhost:8080/",
          "height": 35
        },
        "outputId": "83acf8f3-a36d-4b82-fbea-3ad76ca01e52"
      },
      "source": [
        "df['fruit_name'].unique()"
      ],
      "execution_count": 15,
      "outputs": [
        {
          "output_type": "execute_result",
          "data": {
            "text/plain": [
              "array(['apple', 'mandarin', 'orange', 'lemon'], dtype=object)"
            ]
          },
          "metadata": {
            "tags": []
          },
          "execution_count": 15
        }
      ]
    },
    {
      "cell_type": "code",
      "metadata": {
        "id": "KQeIk4uH0u55",
        "colab_type": "code",
        "colab": {}
      },
      "source": [
        "#inputs and outputs \n",
        "x=df.iloc[:,3:7].values\n",
        "x\n",
        "y=df.iloc[:,1].values"
      ],
      "execution_count": 16,
      "outputs": []
    },
    {
      "cell_type": "code",
      "metadata": {
        "id": "ys2KT5f91MP1",
        "colab_type": "code",
        "colab": {}
      },
      "source": [
        "from sklearn.model_selection import train_test_split\n",
        "x_train,x_test,y_train,y_test=train_test_split(x,y,random_state=41)"
      ],
      "execution_count": 18,
      "outputs": []
    },
    {
      "cell_type": "code",
      "metadata": {
        "id": "vpZnAAoo1pWe",
        "colab_type": "code",
        "colab": {}
      },
      "source": [
        "from sklearn.neighbors import KNeighborsClassifier"
      ],
      "execution_count": 19,
      "outputs": []
    },
    {
      "cell_type": "code",
      "metadata": {
        "id": "uo8N-1y613_L",
        "colab_type": "code",
        "colab": {
          "base_uri": "https://localhost:8080/",
          "height": 35
        },
        "outputId": "0db54203-6fc3-4d98-f892-252ffd9e1566"
      },
      "source": [
        "x_train.shape"
      ],
      "execution_count": 20,
      "outputs": [
        {
          "output_type": "execute_result",
          "data": {
            "text/plain": [
              "(44, 4)"
            ]
          },
          "metadata": {
            "tags": []
          },
          "execution_count": 20
        }
      ]
    },
    {
      "cell_type": "code",
      "metadata": {
        "id": "eocgNMNj16ch",
        "colab_type": "code",
        "colab": {
          "base_uri": "https://localhost:8080/",
          "height": 35
        },
        "outputId": "6c928b3e-f6ad-47d1-b00b-5cdf72c7f811"
      },
      "source": [
        "x_test.shape"
      ],
      "execution_count": 21,
      "outputs": [
        {
          "output_type": "execute_result",
          "data": {
            "text/plain": [
              "(15, 4)"
            ]
          },
          "metadata": {
            "tags": []
          },
          "execution_count": 21
        }
      ]
    },
    {
      "cell_type": "code",
      "metadata": {
        "id": "MYnGMai57m7K",
        "colab_type": "code",
        "colab": {}
      },
      "source": [
        "from sklearn.preprocessing import MinMaxScaler\n",
        "scaler=MinMaxScaler()\n",
        "x_train=scaler.fit_transform(x_train)\n",
        "x_test=scaler.transform(x_test)"
      ],
      "execution_count": 33,
      "outputs": []
    },
    {
      "cell_type": "code",
      "metadata": {
        "id": "ICt6h0u58FYR",
        "colab_type": "code",
        "colab": {
          "base_uri": "https://localhost:8080/",
          "height": 780
        },
        "outputId": "9ebd9d1e-6832-46ae-ad0b-a1a011faf340"
      },
      "source": [
        "x_train"
      ],
      "execution_count": 34,
      "outputs": [
        {
          "output_type": "execute_result",
          "data": {
            "text/plain": [
              "array([[0.41258741, 0.36842105, 0.96923077, 0.40540541],\n",
              "       [0.18881119, 0.05263158, 0.64615385, 0.43243243],\n",
              "       [0.        , 0.        , 0.        , 0.7027027 ],\n",
              "       [0.30769231, 0.36842105, 0.46153846, 0.67567568],\n",
              "       [0.01398601, 0.        , 0.04615385, 0.59459459],\n",
              "       [0.44755245, 0.44736842, 0.8       , 0.59459459],\n",
              "       [0.41958042, 0.39473684, 0.87692308, 0.45945946],\n",
              "       [0.3006993 , 0.44736842, 0.47692308, 0.75675676],\n",
              "       [0.23776224, 0.26315789, 0.52307692, 0.54054054],\n",
              "       [0.13986014, 0.02631579, 0.63076923, 0.48648649],\n",
              "       [0.15384615, 0.05263158, 0.67692308, 0.51351351],\n",
              "       [0.02797203, 0.05263158, 0.09230769, 0.64864865],\n",
              "       [0.28671329, 0.34210526, 0.53846154, 0.64864865],\n",
              "       [0.34965035, 0.42105263, 0.49230769, 0.13513514],\n",
              "       [0.34265734, 0.39473684, 0.93846154, 0.45945946],\n",
              "       [0.29370629, 0.31578947, 0.52307692, 0.7027027 ],\n",
              "       [0.30769231, 0.39473684, 0.56923077, 0.40540541],\n",
              "       [0.3006993 , 0.42105263, 0.49230769, 0.81081081],\n",
              "       [0.27272727, 0.39473684, 0.50769231, 0.64864865],\n",
              "       [0.29370629, 0.34210526, 0.55384615, 0.56756757],\n",
              "       [0.13986014, 0.13157895, 0.56923077, 0.45945946],\n",
              "       [0.32167832, 0.44736842, 0.55384615, 0.48648649],\n",
              "       [0.27272727, 0.34210526, 0.53846154, 0.62162162],\n",
              "       [0.33566434, 0.34210526, 0.55384615, 1.        ],\n",
              "       [0.93006993, 0.84210526, 0.83076923, 0.54054054],\n",
              "       [0.22377622, 0.23684211, 0.47692308, 0.45945946],\n",
              "       [0.22377622, 0.39473684, 0.47692308, 0.86486486],\n",
              "       [0.29370629, 0.44736842, 0.53846154, 0.83783784],\n",
              "       [0.01398601, 0.02631579, 0.04615385, 0.7027027 ],\n",
              "       [0.26573427, 0.18421053, 0.69230769, 0.45945946],\n",
              "       [0.03496503, 0.10526316, 0.10769231, 0.67567568],\n",
              "       [0.43356643, 0.39473684, 1.        , 0.45945946],\n",
              "       [0.38461538, 0.36842105, 0.8       , 0.45945946],\n",
              "       [1.        , 1.        , 0.8       , 0.51351351],\n",
              "       [0.27972028, 0.42105263, 0.52307692, 0.78378378],\n",
              "       [0.32867133, 0.47368421, 0.6       , 0.89189189],\n",
              "       [0.97902098, 0.89473684, 0.8       , 0.54054054],\n",
              "       [0.13986014, 0.05263158, 0.53846154, 0.45945946],\n",
              "       [0.36363636, 0.57894737, 0.43076923, 0.10810811],\n",
              "       [0.27972028, 0.47368421, 0.53846154, 0.32432432],\n",
              "       [0.23076923, 0.47368421, 0.58461538, 0.54054054],\n",
              "       [0.27272727, 0.31578947, 0.47692308, 0.89189189],\n",
              "       [0.25874126, 0.34210526, 0.6       , 0.54054054],\n",
              "       [0.40559441, 0.68421053, 0.50769231, 0.        ]])"
            ]
          },
          "metadata": {
            "tags": []
          },
          "execution_count": 34
        }
      ]
    },
    {
      "cell_type": "code",
      "metadata": {
        "id": "K4VQamet2UEk",
        "colab_type": "code",
        "colab": {}
      },
      "source": [
        "model=KNeighborsClassifier(n_neighbors=7)"
      ],
      "execution_count": 40,
      "outputs": []
    },
    {
      "cell_type": "code",
      "metadata": {
        "id": "LwnUKCCR2cgO",
        "colab_type": "code",
        "colab": {}
      },
      "source": [
        "model.fit(x_train,y_train)\n",
        "y_pred=model.predict(x_test)"
      ],
      "execution_count": 41,
      "outputs": []
    },
    {
      "cell_type": "code",
      "metadata": {
        "id": "iXPi7Smf2q50",
        "colab_type": "code",
        "colab": {
          "base_uri": "https://localhost:8080/",
          "height": 69
        },
        "outputId": "eefb058b-c74a-47a9-f27c-4baaa9987ab3"
      },
      "source": [
        "y_pred"
      ],
      "execution_count": 42,
      "outputs": [
        {
          "output_type": "execute_result",
          "data": {
            "text/plain": [
              "array(['lemon', 'apple', 'apple', 'lemon', 'lemon', 'lemon', 'apple',\n",
              "       'orange', 'lemon', 'apple', 'orange', 'orange', 'orange', 'apple',\n",
              "       'orange'], dtype=object)"
            ]
          },
          "metadata": {
            "tags": []
          },
          "execution_count": 42
        }
      ]
    },
    {
      "cell_type": "code",
      "metadata": {
        "id": "Qr1jqN_a2tBD",
        "colab_type": "code",
        "colab": {
          "base_uri": "https://localhost:8080/",
          "height": 69
        },
        "outputId": "078cd010-c38d-41ac-c023-d19498ea9d23"
      },
      "source": [
        "y_test"
      ],
      "execution_count": 43,
      "outputs": [
        {
          "output_type": "execute_result",
          "data": {
            "text/plain": [
              "array(['lemon', 'apple', 'apple', 'lemon', 'lemon', 'lemon', 'apple',\n",
              "       'apple', 'lemon', 'apple', 'orange', 'orange', 'orange', 'orange',\n",
              "       'orange'], dtype=object)"
            ]
          },
          "metadata": {
            "tags": []
          },
          "execution_count": 43
        }
      ]
    },
    {
      "cell_type": "code",
      "metadata": {
        "id": "8b3s_mZO3SIx",
        "colab_type": "code",
        "colab": {}
      },
      "source": [
        "#evaluation technique\n",
        "#classification-1.accuracy score\n",
        "#confusion matrix\n",
        "#classification report "
      ],
      "execution_count": 44,
      "outputs": []
    },
    {
      "cell_type": "code",
      "metadata": {
        "id": "vZO9hqlF3ivA",
        "colab_type": "code",
        "colab": {
          "base_uri": "https://localhost:8080/",
          "height": 35
        },
        "outputId": "e50d806d-9cab-41a3-9ad4-1404f5dd5ddd"
      },
      "source": [
        "from sklearn.metrics import accuracy_score\n",
        "accuracy_score(y_test,y_pred)*100"
      ],
      "execution_count": 45,
      "outputs": [
        {
          "output_type": "execute_result",
          "data": {
            "text/plain": [
              "86.66666666666667"
            ]
          },
          "metadata": {
            "tags": []
          },
          "execution_count": 45
        }
      ]
    },
    {
      "cell_type": "code",
      "metadata": {
        "id": "usFLaXnJ327G",
        "colab_type": "code",
        "colab": {
          "base_uri": "https://localhost:8080/",
          "height": 69
        },
        "outputId": "6860a519-8221-4011-85f2-b552e5383ebd"
      },
      "source": [
        "from sklearn.metrics import confusion_matrix\n",
        "confusion_matrix(y_test,y_pred)*100"
      ],
      "execution_count": 46,
      "outputs": [
        {
          "output_type": "execute_result",
          "data": {
            "text/plain": [
              "array([[400,   0, 100],\n",
              "       [  0, 500,   0],\n",
              "       [100,   0, 400]])"
            ]
          },
          "metadata": {
            "tags": []
          },
          "execution_count": 46
        }
      ]
    },
    {
      "cell_type": "code",
      "metadata": {
        "id": "fZEamgq64IVj",
        "colab_type": "code",
        "colab": {}
      },
      "source": [
        "#imbalanced data-accuracy score isnt good\n",
        "#we need precision , recall,F1-score\n"
      ],
      "execution_count": 47,
      "outputs": []
    },
    {
      "cell_type": "code",
      "metadata": {
        "id": "mXk1qJen5KpO",
        "colab_type": "code",
        "colab": {
          "base_uri": "https://localhost:8080/",
          "height": 191
        },
        "outputId": "a7908c08-9491-4fdc-bc20-aff7ee7cba4a"
      },
      "source": [
        "from sklearn.metrics import classification_report\n",
        "print(classification_report(y_test,y_pred))"
      ],
      "execution_count": 48,
      "outputs": [
        {
          "output_type": "stream",
          "text": [
            "              precision    recall  f1-score   support\n",
            "\n",
            "       apple       0.80      0.80      0.80         5\n",
            "       lemon       1.00      1.00      1.00         5\n",
            "      orange       0.80      0.80      0.80         5\n",
            "\n",
            "    accuracy                           0.87        15\n",
            "   macro avg       0.87      0.87      0.87        15\n",
            "weighted avg       0.87      0.87      0.87        15\n",
            "\n"
          ],
          "name": "stdout"
        }
      ]
    },
    {
      "cell_type": "code",
      "metadata": {
        "id": "P9jn0_TP5eB3",
        "colab_type": "code",
        "colab": {}
      },
      "source": [
        "#true value measures the accuracyand false value measures the precision and recall\n"
      ],
      "execution_count": 49,
      "outputs": []
    },
    {
      "cell_type": "code",
      "metadata": {
        "id": "NOkWY2r87gAl",
        "colab_type": "code",
        "colab": {
          "base_uri": "https://localhost:8080/",
          "height": 35
        },
        "outputId": "a7ef6425-3ff1-445c-8bca-fe08fad1851c"
      },
      "source": [
        "y1=scaler.transform([[176,7.4,7.2,0.60]])\n",
        "y1=model.predict(y1)\n",
        "y1"
      ],
      "execution_count": 52,
      "outputs": [
        {
          "output_type": "execute_result",
          "data": {
            "text/plain": [
              "array(['apple'], dtype=object)"
            ]
          },
          "metadata": {
            "tags": []
          },
          "execution_count": 52
        }
      ]
    },
    {
      "cell_type": "code",
      "metadata": {
        "id": "HWUuYCoS9g9d",
        "colab_type": "code",
        "colab": {}
      },
      "source": [
        ""
      ],
      "execution_count": null,
      "outputs": []
    }
  ]
}