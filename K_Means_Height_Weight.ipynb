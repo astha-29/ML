{
  "nbformat": 4,
  "nbformat_minor": 0,
  "metadata": {
    "colab": {
      "name": "K Means-Height Weight.ipynb",
      "provenance": [],
      "collapsed_sections": [],
      "mount_file_id": "1ujz_wVYH5GLLLJeDMDUIPLAX2c104jdv",
      "authorship_tag": "ABX9TyN+eAIzWAgI9n33D5tElkaE",
      "include_colab_link": true
    },
    "kernelspec": {
      "name": "python3",
      "display_name": "Python 3"
    }
  },
  "cells": [
    {
      "cell_type": "markdown",
      "metadata": {
        "id": "view-in-github",
        "colab_type": "text"
      },
      "source": [
        "<a href=\"https://colab.research.google.com/github/astha-29/ML/blob/master/K_Means_Height_Weight.ipynb\" target=\"_parent\"><img src=\"https://colab.research.google.com/assets/colab-badge.svg\" alt=\"Open In Colab\"/></a>"
      ]
    },
    {
      "cell_type": "code",
      "metadata": {
        "id": "m0S5Fe8S-7T-",
        "colab_type": "code",
        "colab": {
          "base_uri": "https://localhost:8080/",
          "height": 417
        },
        "outputId": "4b498397-ff4b-4f2b-9211-162747fbc700"
      },
      "source": [
        "import pandas as pd\n",
        "df= pd.read_csv('/content/drive/My Drive/Colab Notebooks/ML/htwt.csv')\n",
        "df"
      ],
      "execution_count": 1,
      "outputs": [
        {
          "output_type": "execute_result",
          "data": {
            "text/html": [
              "<div>\n",
              "<style scoped>\n",
              "    .dataframe tbody tr th:only-of-type {\n",
              "        vertical-align: middle;\n",
              "    }\n",
              "\n",
              "    .dataframe tbody tr th {\n",
              "        vertical-align: top;\n",
              "    }\n",
              "\n",
              "    .dataframe thead th {\n",
              "        text-align: right;\n",
              "    }\n",
              "</style>\n",
              "<table border=\"1\" class=\"dataframe\">\n",
              "  <thead>\n",
              "    <tr style=\"text-align: right;\">\n",
              "      <th></th>\n",
              "      <th>Height</th>\n",
              "      <th>Weight</th>\n",
              "    </tr>\n",
              "  </thead>\n",
              "  <tbody>\n",
              "    <tr>\n",
              "      <th>0</th>\n",
              "      <td>185</td>\n",
              "      <td>72</td>\n",
              "    </tr>\n",
              "    <tr>\n",
              "      <th>1</th>\n",
              "      <td>170</td>\n",
              "      <td>56</td>\n",
              "    </tr>\n",
              "    <tr>\n",
              "      <th>2</th>\n",
              "      <td>168</td>\n",
              "      <td>60</td>\n",
              "    </tr>\n",
              "    <tr>\n",
              "      <th>3</th>\n",
              "      <td>179</td>\n",
              "      <td>68</td>\n",
              "    </tr>\n",
              "    <tr>\n",
              "      <th>4</th>\n",
              "      <td>182</td>\n",
              "      <td>72</td>\n",
              "    </tr>\n",
              "    <tr>\n",
              "      <th>5</th>\n",
              "      <td>188</td>\n",
              "      <td>77</td>\n",
              "    </tr>\n",
              "    <tr>\n",
              "      <th>6</th>\n",
              "      <td>180</td>\n",
              "      <td>71</td>\n",
              "    </tr>\n",
              "    <tr>\n",
              "      <th>7</th>\n",
              "      <td>180</td>\n",
              "      <td>70</td>\n",
              "    </tr>\n",
              "    <tr>\n",
              "      <th>8</th>\n",
              "      <td>183</td>\n",
              "      <td>84</td>\n",
              "    </tr>\n",
              "    <tr>\n",
              "      <th>9</th>\n",
              "      <td>180</td>\n",
              "      <td>88</td>\n",
              "    </tr>\n",
              "    <tr>\n",
              "      <th>10</th>\n",
              "      <td>180</td>\n",
              "      <td>67</td>\n",
              "    </tr>\n",
              "    <tr>\n",
              "      <th>11</th>\n",
              "      <td>177</td>\n",
              "      <td>76</td>\n",
              "    </tr>\n",
              "  </tbody>\n",
              "</table>\n",
              "</div>"
            ],
            "text/plain": [
              "    Height  Weight\n",
              "0      185      72\n",
              "1      170      56\n",
              "2      168      60\n",
              "3      179      68\n",
              "4      182      72\n",
              "5      188      77\n",
              "6      180      71\n",
              "7      180      70\n",
              "8      183      84\n",
              "9      180      88\n",
              "10     180      67\n",
              "11     177      76"
            ]
          },
          "metadata": {
            "tags": []
          },
          "execution_count": 1
        }
      ]
    },
    {
      "cell_type": "code",
      "metadata": {
        "id": "FBy4mxifBnna",
        "colab_type": "code",
        "colab": {
          "base_uri": "https://localhost:8080/",
          "height": 35
        },
        "outputId": "28194e88-98a0-424d-980f-5c83398f5a3e"
      },
      "source": [
        "df.shape"
      ],
      "execution_count": 2,
      "outputs": [
        {
          "output_type": "execute_result",
          "data": {
            "text/plain": [
              "(12, 2)"
            ]
          },
          "metadata": {
            "tags": []
          },
          "execution_count": 2
        }
      ]
    },
    {
      "cell_type": "code",
      "metadata": {
        "id": "WfofNoTtBpKa",
        "colab_type": "code",
        "colab": {
          "base_uri": "https://localhost:8080/",
          "height": 279
        },
        "outputId": "dbade16e-c22d-4580-e596-1e0eb25c3212"
      },
      "source": [
        "import matplotlib.pyplot as plt\n",
        "plt.scatter(df['Height'],df['Weight'])  #height -Xaxis ,weight -yaxis \n",
        "plt.xlabel('Height')\n",
        "plt.ylabel('Weight')\n",
        "plt.show()"
      ],
      "execution_count": 3,
      "outputs": [
        {
          "output_type": "display_data",
          "data": {
            "image/png": "[encoded data removed]",
            "text/plain": [
              "<Figure size 432x288 with 1 Axes>"
            ]
          },
          "metadata": {
            "tags": [],
            "needs_background": "light"
          }
        }
      ]
    },
    {
      "cell_type": "code",
      "metadata": {
        "id": "96yA0nMuCHik",
        "colab_type": "code",
        "colab": {
          "base_uri": "https://localhost:8080/",
          "height": 225
        },
        "outputId": "53d5f90c-57d3-4f11-c3fb-fadb1b2d0d7d"
      },
      "source": [
        "x=df.iloc[:,[0,1]].values\n",
        "x"
      ],
      "execution_count": 4,
      "outputs": [
        {
          "output_type": "execute_result",
          "data": {
            "text/plain": [
              "array([[185,  72],\n",
              "       [170,  56],\n",
              "       [168,  60],\n",
              "       [179,  68],\n",
              "       [182,  72],\n",
              "       [188,  77],\n",
              "       [180,  71],\n",
              "       [180,  70],\n",
              "       [183,  84],\n",
              "       [180,  88],\n",
              "       [180,  67],\n",
              "       [177,  76]])"
            ]
          },
          "metadata": {
            "tags": []
          },
          "execution_count": 4
        }
      ]
    },
    {
      "cell_type": "code",
      "metadata": {
        "id": "yPazUPdiCZrv",
        "colab_type": "code",
        "colab": {
          "base_uri": "https://localhost:8080/",
          "height": 297
        },
        "outputId": "2bb67554-bbbf-4b14-e103-eaa06ed902da"
      },
      "source": [
        "#elbow method K=2\n",
        "sse=[] #sum of squared error. A list to store the value\n",
        "for i in range (1,13): \n",
        "  model = KMeans(n_clusters=i)\n",
        "  model.fit(x)\n",
        "  sse.append(model.inertia_)\n",
        "plt.plot(range(1,13),sse)\n",
        "plt.xlabel('No of clusters')\n",
        "plt.ylabel('SSE')\n",
        "plt.plot()\n"
      ],
      "execution_count": 20,
      "outputs": [
        {
          "output_type": "execute_result",
          "data": {
            "text/plain": [
              "[]"
            ]
          },
          "metadata": {
            "tags": []
          },
          "execution_count": 20
        },
        {
          "output_type": "display_data",
          "data": {
            "image/png": "[encoded data removed]",
            "text/plain": [
              "<Figure size 432x288 with 1 Axes>"
            ]
          },
          "metadata": {
            "tags": [],
            "needs_background": "light"
          }
        }
      ]
    },
    {
      "cell_type": "code",
      "metadata": {
        "id": "hzwU9XR-KRBb",
        "colab_type": "code",
        "colab": {
          "base_uri": "https://localhost:8080/",
          "height": 297
        },
        "outputId": "ffefa33c-30f6-4637-f8d0-1e280a255ecc"
      },
      "source": [
        "#elbow method K=2\n",
        "sse=[] #sum of squared error. A list to store the value\n",
        "for i in range (1,13): \n",
        "  model = KMeans(n_clusters=i)\n",
        "  model.fit(x)\n",
        "  sse.append(model.inertia_)\n",
        "plt.scatter(range(1,13),sse)\n",
        "plt.xlabel('No of clusters')\n",
        "plt.ylabel('SSE')\n",
        "plt.plot()"
      ],
      "execution_count": 22,
      "outputs": [
        {
          "output_type": "execute_result",
          "data": {
            "text/plain": [
              "[]"
            ]
          },
          "metadata": {
            "tags": []
          },
          "execution_count": 22
        },
        {
          "output_type": "display_data",
          "data": {
            "image/png": "[encoded data removed]",
            "text/plain": [
              "<Figure size 432x288 with 1 Axes>"
            ]
          },
          "metadata": {
            "tags": [],
            "needs_background": "light"
          }
        }
      ]
    },
    {
      "cell_type": "code",
      "metadata": {
        "id": "HdwMyAv5CmR1",
        "colab_type": "code",
        "colab": {
          "base_uri": "https://localhost:8080/",
          "height": 35
        },
        "outputId": "b63e0add-79c5-4700-df1d-38f721bbf6d0"
      },
      "source": [
        "#call for the cluster \n",
        "from sklearn.cluster import KMeans\n",
        "model = KMeans(n_clusters=2,random_state=0)\n",
        "model.fit(x)\n",
        "y_pred= model.predict(x)\n",
        "y_pred\n"
      ],
      "execution_count": 11,
      "outputs": [
        {
          "output_type": "execute_result",
          "data": {
            "text/plain": [
              "array([0, 1, 1, 0, 0, 0, 0, 0, 0, 0, 0, 0], dtype=int32)"
            ]
          },
          "metadata": {
            "tags": []
          },
          "execution_count": 11
        }
      ]
    },
    {
      "cell_type": "code",
      "metadata": {
        "id": "QVXco8veC8IP",
        "colab_type": "code",
        "colab": {
          "base_uri": "https://localhost:8080/",
          "height": 35
        },
        "outputId": "7feef9dd-eef7-422c-aee7-d5ede2228fb5"
      },
      "source": [
        "#plotting the clusters\n",
        "#1.cluster 0 - 10 points in 0 cluster(10-height(x),10-Weight(y))\n",
        "#height Values(x)\n",
        "x[y_pred==0,0]#the values of cluster 0 of 0th columns \n"
      ],
      "execution_count": 12,
      "outputs": [
        {
          "output_type": "execute_result",
          "data": {
            "text/plain": [
              "array([185, 179, 182, 188, 180, 180, 183, 180, 180, 177])"
            ]
          },
          "metadata": {
            "tags": []
          },
          "execution_count": 12
        }
      ]
    },
    {
      "cell_type": "code",
      "metadata": {
        "id": "QO2WZeIwEMEh",
        "colab_type": "code",
        "colab": {
          "base_uri": "https://localhost:8080/",
          "height": 35
        },
        "outputId": "aa43861a-ca4b-4bd2-cd0a-2e6514179495"
      },
      "source": [
        "#Weight Values(x)\n",
        "x[y_pred==0,1]#the values of cluster 0 of 1st columns "
      ],
      "execution_count": 13,
      "outputs": [
        {
          "output_type": "execute_result",
          "data": {
            "text/plain": [
              "array([72, 68, 72, 77, 71, 70, 84, 88, 67, 76])"
            ]
          },
          "metadata": {
            "tags": []
          },
          "execution_count": 13
        }
      ]
    },
    {
      "cell_type": "code",
      "metadata": {
        "id": "oX_G4H0EEZA9",
        "colab_type": "code",
        "colab": {
          "base_uri": "https://localhost:8080/",
          "height": 35
        },
        "outputId": "6eab0418-b05b-4b63-cbe1-76bbada176a4"
      },
      "source": [
        "#height Values(x)\n",
        "x[y_pred==1,0]#the values of cluster 1 of 0th columns "
      ],
      "execution_count": 14,
      "outputs": [
        {
          "output_type": "execute_result",
          "data": {
            "text/plain": [
              "array([170, 168])"
            ]
          },
          "metadata": {
            "tags": []
          },
          "execution_count": 14
        }
      ]
    },
    {
      "cell_type": "code",
      "metadata": {
        "id": "rKGj-eOCEgy5",
        "colab_type": "code",
        "colab": {
          "base_uri": "https://localhost:8080/",
          "height": 35
        },
        "outputId": "65393076-ebba-4a16-fd9d-0b226db01ff0"
      },
      "source": [
        "#Weight Values(x)\n",
        "x[y_pred==1,1]#the values of cluster 1 of 1st columns "
      ],
      "execution_count": 15,
      "outputs": [
        {
          "output_type": "execute_result",
          "data": {
            "text/plain": [
              "array([56, 60])"
            ]
          },
          "metadata": {
            "tags": []
          },
          "execution_count": 15
        }
      ]
    },
    {
      "cell_type": "code",
      "metadata": {
        "id": "MB2FJ4j1EnmF",
        "colab_type": "code",
        "colab": {
          "base_uri": "https://localhost:8080/",
          "height": 265
        },
        "outputId": "1802a964-0742-4c10-bc52-d38fab4f854e"
      },
      "source": [
        "plt.scatter(x[y_pred==0,0],x[y_pred==0,1],c='r',label='Cluster 0')\n",
        "plt.scatter(x[y_pred==1,0],x[y_pred==1,1],c='y',label='Cluster 1')\n",
        "plt.legend()\n",
        "plt.show()"
      ],
      "execution_count": 18,
      "outputs": [
        {
          "output_type": "display_data",
          "data": {
            "image/png": "[encoded data removed]",
            "text/plain": [
              "<Figure size 432x288 with 1 Axes>"
            ]
          },
          "metadata": {
            "tags": [],
            "needs_background": "light"
          }
        }
      ]
    },
    {
      "cell_type": "code",
      "metadata": {
        "id": "sqFvjbpdF09h",
        "colab_type": "code",
        "colab": {}
      },
      "source": [
        ""
      ],
      "execution_count": null,
      "outputs": []
    }
  ]
}