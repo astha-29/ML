{
  "nbformat": 4,
  "nbformat_minor": 0,
  "metadata": {
    "colab": {
      "name": "project.ipynb",
      "provenance": [],
      "collapsed_sections": [],
      "mount_file_id": "1SRlv9kPSQ-aQdwFVGwMxt1mXXl56GZ3z",
      "authorship_tag": "ABX9TyMQKWVSIQllxTpPwLJNIhOV",
      "include_colab_link": true
    },
    "kernelspec": {
      "name": "python3",
      "display_name": "Python 3"
    }
  },
  "cells": [
    {
      "cell_type": "markdown",
      "metadata": {
        "id": "view-in-github",
        "colab_type": "text"
      },
      "source": [
        "<a href=\"https://colab.research.google.com/github/astha-29/ML/blob/master/project.ipynb\" target=\"_parent\"><img src=\"https://colab.research.google.com/assets/colab-badge.svg\" alt=\"Open In Colab\"/></a>"
      ]
    },
    {
      "cell_type": "code",
      "metadata": {
        "id": "MUZj8kTxXanI",
        "colab_type": "code",
        "colab": {}
      },
      "source": [
        "import pandas as pd"
      ],
      "execution_count": 2,
      "outputs": []
    },
    {
      "cell_type": "code",
      "metadata": {
        "id": "19rVH_GQXqwm",
        "colab_type": "code",
        "colab": {
          "base_uri": "https://localhost:8080/",
          "height": 415
        },
        "outputId": "19780b97-af21-4753-e2cf-e0a86c692208"
      },
      "source": [
        "df= pd.read_csv('admission.csv')\n",
        "df"
      ],
      "execution_count": 439,
      "outputs": [
        {
          "output_type": "execute_result",
          "data": {
            "text/html": [
              "<div>\n",
              "<style scoped>\n",
              "    .dataframe tbody tr th:only-of-type {\n",
              "        vertical-align: middle;\n",
              "    }\n",
              "\n",
              "    .dataframe tbody tr th {\n",
              "        vertical-align: top;\n",
              "    }\n",
              "\n",
              "    .dataframe thead th {\n",
              "        text-align: right;\n",
              "    }\n",
              "</style>\n",
              "<table border=\"1\" class=\"dataframe\">\n",
              "  <thead>\n",
              "    <tr style=\"text-align: right;\">\n",
              "      <th></th>\n",
              "      <th>Serial No.</th>\n",
              "      <th>GRE Score</th>\n",
              "      <th>TOEFL Score</th>\n",
              "      <th>University Rating</th>\n",
              "      <th>SOP</th>\n",
              "      <th>LOR</th>\n",
              "      <th>CGPA</th>\n",
              "      <th>Research</th>\n",
              "      <th>Chance of Admit</th>\n",
              "    </tr>\n",
              "  </thead>\n",
              "  <tbody>\n",
              "    <tr>\n",
              "      <th>0</th>\n",
              "      <td>1</td>\n",
              "      <td>337</td>\n",
              "      <td>118</td>\n",
              "      <td>4</td>\n",
              "      <td>4.5</td>\n",
              "      <td>4.5</td>\n",
              "      <td>9.65</td>\n",
              "      <td>1</td>\n",
              "      <td>0.92</td>\n",
              "    </tr>\n",
              "    <tr>\n",
              "      <th>1</th>\n",
              "      <td>2</td>\n",
              "      <td>324</td>\n",
              "      <td>107</td>\n",
              "      <td>4</td>\n",
              "      <td>4.0</td>\n",
              "      <td>4.5</td>\n",
              "      <td>8.87</td>\n",
              "      <td>1</td>\n",
              "      <td>0.76</td>\n",
              "    </tr>\n",
              "    <tr>\n",
              "      <th>2</th>\n",
              "      <td>3</td>\n",
              "      <td>316</td>\n",
              "      <td>104</td>\n",
              "      <td>3</td>\n",
              "      <td>3.0</td>\n",
              "      <td>3.5</td>\n",
              "      <td>8.00</td>\n",
              "      <td>1</td>\n",
              "      <td>0.72</td>\n",
              "    </tr>\n",
              "    <tr>\n",
              "      <th>3</th>\n",
              "      <td>4</td>\n",
              "      <td>322</td>\n",
              "      <td>110</td>\n",
              "      <td>3</td>\n",
              "      <td>3.5</td>\n",
              "      <td>2.5</td>\n",
              "      <td>8.67</td>\n",
              "      <td>1</td>\n",
              "      <td>0.80</td>\n",
              "    </tr>\n",
              "    <tr>\n",
              "      <th>4</th>\n",
              "      <td>5</td>\n",
              "      <td>314</td>\n",
              "      <td>103</td>\n",
              "      <td>2</td>\n",
              "      <td>2.0</td>\n",
              "      <td>3.0</td>\n",
              "      <td>8.21</td>\n",
              "      <td>0</td>\n",
              "      <td>0.65</td>\n",
              "    </tr>\n",
              "    <tr>\n",
              "      <th>...</th>\n",
              "      <td>...</td>\n",
              "      <td>...</td>\n",
              "      <td>...</td>\n",
              "      <td>...</td>\n",
              "      <td>...</td>\n",
              "      <td>...</td>\n",
              "      <td>...</td>\n",
              "      <td>...</td>\n",
              "      <td>...</td>\n",
              "    </tr>\n",
              "    <tr>\n",
              "      <th>395</th>\n",
              "      <td>396</td>\n",
              "      <td>324</td>\n",
              "      <td>110</td>\n",
              "      <td>3</td>\n",
              "      <td>3.5</td>\n",
              "      <td>3.5</td>\n",
              "      <td>9.04</td>\n",
              "      <td>1</td>\n",
              "      <td>0.82</td>\n",
              "    </tr>\n",
              "    <tr>\n",
              "      <th>396</th>\n",
              "      <td>397</td>\n",
              "      <td>325</td>\n",
              "      <td>107</td>\n",
              "      <td>3</td>\n",
              "      <td>3.0</td>\n",
              "      <td>3.5</td>\n",
              "      <td>9.11</td>\n",
              "      <td>1</td>\n",
              "      <td>0.84</td>\n",
              "    </tr>\n",
              "    <tr>\n",
              "      <th>397</th>\n",
              "      <td>398</td>\n",
              "      <td>330</td>\n",
              "      <td>116</td>\n",
              "      <td>4</td>\n",
              "      <td>5.0</td>\n",
              "      <td>4.5</td>\n",
              "      <td>9.45</td>\n",
              "      <td>1</td>\n",
              "      <td>0.91</td>\n",
              "    </tr>\n",
              "    <tr>\n",
              "      <th>398</th>\n",
              "      <td>399</td>\n",
              "      <td>312</td>\n",
              "      <td>103</td>\n",
              "      <td>3</td>\n",
              "      <td>3.5</td>\n",
              "      <td>4.0</td>\n",
              "      <td>8.78</td>\n",
              "      <td>0</td>\n",
              "      <td>0.67</td>\n",
              "    </tr>\n",
              "    <tr>\n",
              "      <th>399</th>\n",
              "      <td>400</td>\n",
              "      <td>333</td>\n",
              "      <td>117</td>\n",
              "      <td>4</td>\n",
              "      <td>5.0</td>\n",
              "      <td>4.0</td>\n",
              "      <td>9.66</td>\n",
              "      <td>1</td>\n",
              "      <td>0.95</td>\n",
              "    </tr>\n",
              "  </tbody>\n",
              "</table>\n",
              "<p>400 rows × 9 columns</p>\n",
              "</div>"
            ],
            "text/plain": [
              "     Serial No.  GRE Score  TOEFL Score  ...  CGPA  Research  Chance of Admit \n",
              "0             1        337          118  ...  9.65         1              0.92\n",
              "1             2        324          107  ...  8.87         1              0.76\n",
              "2             3        316          104  ...  8.00         1              0.72\n",
              "3             4        322          110  ...  8.67         1              0.80\n",
              "4             5        314          103  ...  8.21         0              0.65\n",
              "..          ...        ...          ...  ...   ...       ...               ...\n",
              "395         396        324          110  ...  9.04         1              0.82\n",
              "396         397        325          107  ...  9.11         1              0.84\n",
              "397         398        330          116  ...  9.45         1              0.91\n",
              "398         399        312          103  ...  8.78         0              0.67\n",
              "399         400        333          117  ...  9.66         1              0.95\n",
              "\n",
              "[400 rows x 9 columns]"
            ]
          },
          "metadata": {
            "tags": []
          },
          "execution_count": 439
        }
      ]
    },
    {
      "cell_type": "code",
      "metadata": {
        "id": "cEvM81PFXynS",
        "colab_type": "code",
        "colab": {}
      },
      "source": [
        "x=df.iloc[:,0:8].values\n",
        "y=df.iloc[:,8].values"
      ],
      "execution_count": 453,
      "outputs": []
    },
    {
      "cell_type": "code",
      "metadata": {
        "id": "MieeNdUdX6H1",
        "colab_type": "code",
        "colab": {}
      },
      "source": [
        "from sklearn.model_selection import train_test_split\n",
        "\n",
        "x_train,x_test,y_train,y_test = train_test_split(x,y,test_size = 0.3,random_state =3)"
      ],
      "execution_count": 454,
      "outputs": []
    },
    {
      "cell_type": "code",
      "metadata": {
        "id": "WQSRJU_9X9MU",
        "colab_type": "code",
        "colab": {
          "base_uri": "https://localhost:8080/",
          "height": 35
        },
        "outputId": "c02e1ec8-8fda-45ec-8dac-4feb664d9983"
      },
      "source": [
        "x_train.shape"
      ],
      "execution_count": 455,
      "outputs": [
        {
          "output_type": "execute_result",
          "data": {
            "text/plain": [
              "(280, 8)"
            ]
          },
          "metadata": {
            "tags": []
          },
          "execution_count": 455
        }
      ]
    },
    {
      "cell_type": "code",
      "metadata": {
        "id": "z9SGZbDGYAaL",
        "colab_type": "code",
        "colab": {
          "base_uri": "https://localhost:8080/",
          "height": 35
        },
        "outputId": "98211271-ecea-4988-d12f-35f5adb694f9"
      },
      "source": [
        "x_test.shape"
      ],
      "execution_count": 456,
      "outputs": [
        {
          "output_type": "execute_result",
          "data": {
            "text/plain": [
              "(120, 8)"
            ]
          },
          "metadata": {
            "tags": []
          },
          "execution_count": 456
        }
      ]
    },
    {
      "cell_type": "code",
      "metadata": {
        "id": "63mvWqIQYC31",
        "colab_type": "code",
        "colab": {
          "base_uri": "https://localhost:8080/",
          "height": 433
        },
        "outputId": "bf4163b2-3dcb-4ca9-a1ef-72738b743875"
      },
      "source": [
        "from sklearn.linear_model import LinearRegression\n",
        "model = LinearRegression()\n",
        "model.fit(x_train,y_train)\n",
        "y_pred = model.predict(x_test)\n",
        "y_pred"
      ],
      "execution_count": 457,
      "outputs": [
        {
          "output_type": "execute_result",
          "data": {
            "text/plain": [
              "array([0.49200235, 0.67541611, 0.86322521, 0.83881214, 0.91113502,\n",
              "       0.82627321, 0.82626671, 0.51903672, 0.70505511, 0.64271681,\n",
              "       0.87511976, 0.68699238, 0.52188026, 0.64772457, 0.72384757,\n",
              "       0.75744726, 0.51513639, 0.84486822, 0.71398009, 0.64851975,\n",
              "       0.64062559, 0.79065785, 0.60825211, 0.82314353, 0.78391985,\n",
              "       0.93928531, 0.65830946, 0.84137298, 0.78814807, 0.92317859,\n",
              "       0.86242868, 0.86657182, 0.77621366, 0.80365676, 0.87658915,\n",
              "       0.80555032, 0.62570674, 0.67852427, 0.7278508 , 0.67005683,\n",
              "       0.60045966, 0.68634427, 0.72025814, 0.94324112, 0.64332835,\n",
              "       0.75570834, 0.84379053, 0.92665861, 0.6505685 , 0.59156795,\n",
              "       0.86712091, 0.60599775, 0.79668377, 0.64402575, 0.4996293 ,\n",
              "       0.53627147, 0.56119403, 0.47333584, 0.69663671, 0.75623777,\n",
              "       0.79846148, 0.66853046, 0.94071963, 0.89330299, 0.87969315,\n",
              "       0.75379202, 0.92965455, 0.46966432, 0.85819011, 0.69650997,\n",
              "       0.77898492, 0.92534361, 0.90758313, 0.67717332, 0.48220873,\n",
              "       0.71238988, 0.70399771, 0.78845526, 0.74260643, 0.71540256,\n",
              "       0.53145349, 0.87960153, 0.53790899, 0.93706566, 0.63685034,\n",
              "       0.68000753, 0.57846924, 0.60086857, 0.51025002, 0.72162029,\n",
              "       0.58550921, 0.65850597, 0.48170327, 0.85307765, 0.63537031,\n",
              "       0.65314513, 0.6284351 , 0.52016248, 0.83300528, 0.83675753,\n",
              "       0.76291947, 0.61046088, 0.90029609, 0.88024749, 0.67616013,\n",
              "       0.51815872, 0.41466555, 0.66732398, 0.57478506, 0.66867244,\n",
              "       0.74030574, 0.83573291, 0.60457873, 0.63320781, 0.70944707,\n",
              "       0.93743208, 0.71222452, 0.71386536, 0.80198465, 0.66045822])"
            ]
          },
          "metadata": {
            "tags": []
          },
          "execution_count": 457
        }
      ]
    },
    {
      "cell_type": "code",
      "metadata": {
        "id": "lp0unjyqYFA2",
        "colab_type": "code",
        "colab": {
          "base_uri": "https://localhost:8080/",
          "height": 208
        },
        "outputId": "e20d1238-8488-4d32-8674-86a60e5c2185"
      },
      "source": [
        "y_test"
      ],
      "execution_count": 458,
      "outputs": [
        {
          "output_type": "execute_result",
          "data": {
            "text/plain": [
              "array([0.34, 0.66, 0.86, 0.92, 0.91, 0.85, 0.84, 0.64, 0.74, 0.46, 0.81,\n",
              "       0.74, 0.57, 0.61, 0.78, 0.61, 0.58, 0.9 , 0.65, 0.62, 0.62, 0.8 ,\n",
              "       0.54, 0.85, 0.84, 0.96, 0.81, 0.82, 0.82, 0.97, 0.82, 0.88, 0.77,\n",
              "       0.84, 0.92, 0.8 , 0.71, 0.62, 0.75, 0.76, 0.67, 0.74, 0.73, 0.96,\n",
              "       0.62, 0.76, 0.87, 0.9 , 0.56, 0.47, 0.89, 0.65, 0.8 , 0.75, 0.44,\n",
              "       0.56, 0.64, 0.47, 0.77, 0.71, 0.84, 0.66, 0.94, 0.9 , 0.92, 0.73,\n",
              "       0.94, 0.49, 0.89, 0.7 , 0.69, 0.93, 0.94, 0.72, 0.57, 0.72, 0.52,\n",
              "       0.66, 0.74, 0.77, 0.59, 0.93, 0.6 , 0.95, 0.59, 0.59, 0.52, 0.65,\n",
              "       0.49, 0.79, 0.42, 0.76, 0.52, 0.83, 0.64, 0.67, 0.5 , 0.54, 0.82,\n",
              "       0.9 , 0.72, 0.61, 0.89, 0.86, 0.71, 0.52, 0.46, 0.71, 0.65, 0.68,\n",
              "       0.8 , 0.89, 0.64, 0.73, 0.78, 0.94, 0.76, 0.57, 0.82, 0.7 ])"
            ]
          },
          "metadata": {
            "tags": []
          },
          "execution_count": 458
        }
      ]
    },
    {
      "cell_type": "code",
      "metadata": {
        "id": "PQ4YNzbMZWwq",
        "colab_type": "code",
        "colab": {
          "base_uri": "https://localhost:8080/",
          "height": 35
        },
        "outputId": "22acd2ca-7dc1-4c11-9383-a075f49c8acf"
      },
      "source": [
        "from sklearn import metrics\n",
        "metrics.r2_score(y_test,y_pred)*100 #Accuracy"
      ],
      "execution_count": 459,
      "outputs": [
        {
          "output_type": "execute_result",
          "data": {
            "text/plain": [
              "80.83967294567633"
            ]
          },
          "metadata": {
            "tags": []
          },
          "execution_count": 459
        }
      ]
    },
    {
      "cell_type": "code",
      "metadata": {
        "id": "RCtjVp-XZY_k",
        "colab_type": "code",
        "colab": {}
      },
      "source": [
        ""
      ],
      "execution_count": 459,
      "outputs": []
    }
  ]
}